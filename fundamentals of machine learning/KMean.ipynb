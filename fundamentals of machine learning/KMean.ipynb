{
  "nbformat": 4,
  "nbformat_minor": 0,
  "metadata": {
    "colab": {
      "provenance": [],
      "authorship_tag": "ABX9TyO+WRNoP+KSII+eAO0742Eh",
      "include_colab_link": true
    },
    "kernelspec": {
      "name": "python3",
      "display_name": "Python 3"
    },
    "language_info": {
      "name": "python"
    }
  },
  "cells": [
    {
      "cell_type": "markdown",
      "metadata": {
        "id": "view-in-github",
        "colab_type": "text"
      },
      "source": [
        "<a href=\"https://colab.research.google.com/github/Neethuharii/Foundatin-of-ML/blob/main/fundamentals%20of%20machine%20learning/KMean.ipynb\" target=\"_parent\"><img src=\"https://colab.research.google.com/assets/colab-badge.svg\" alt=\"Open In Colab\"/></a>"
      ]
    },
    {
      "cell_type": "markdown",
      "source": [
        "#K-Mean Clustering"
      ],
      "metadata": {
        "id": "NwFGRb2Hitpd"
      }
    },
    {
      "cell_type": "code",
      "execution_count": 1,
      "metadata": {
        "id": "uCy63MGjip6D"
      },
      "outputs": [],
      "source": [
        "import numpy as np\n",
        "import sklearn\n",
        "from sklearn.preprocessing import scale\n",
        "from sklearn.datasets import load_digits\n",
        "from sklearn.cluster import KMeans\n",
        "from sklearn import metrics"
      ]
    },
    {
      "cell_type": "markdown",
      "source": [
        "####Loading the Data-set"
      ],
      "metadata": {
        "id": "GM0kSbJEkV3o"
      }
    },
    {
      "cell_type": "code",
      "source": [
        "digits = load_digits()     #load_digit provide a asample dataset\n",
        "data = scale(digits.data)  #scale() which remove the scale and means from the dataset\n",
        "y = digits.target\n",
        "\n",
        "k = 10                     #no.of clustering=10\n",
        "samples, features = data.shape   #extract all features and label"
      ],
      "metadata": {
        "id": "EE9DQq4BjJ7U"
      },
      "execution_count": 2,
      "outputs": []
    },
    {
      "cell_type": "markdown",
      "source": [
        "####Scoring"
      ],
      "metadata": {
        "id": "uQPyfLjhkXn_"
      }
    },
    {
      "cell_type": "code",
      "source": [
        "def bench_k_means(estimator, name, data):\n",
        "    estimator.fit(data)\n",
        "    print('%-9s\\t%i\\t%.3f\\t%.3f\\t%.3f\\t%.3f\\t%.3f\\t%.3f'\n",
        "          % (name, estimator.inertia_,\n",
        "             metrics.homogeneity_score(y, estimator.labels_),\n",
        "             metrics.completeness_score(y, estimator.labels_),\n",
        "             metrics.v_measure_score(y, estimator.labels_),\n",
        "             metrics.adjusted_rand_score(y, estimator.labels_),\n",
        "             metrics.adjusted_mutual_info_score(y,  estimator.labels_),\n",
        "             metrics.silhouette_score(data, estimator.labels_,\n",
        "                                      metric='euclidean')))"
      ],
      "metadata": {
        "id": "6n-02rqJjhm8"
      },
      "execution_count": 4,
      "outputs": []
    },
    {
      "cell_type": "markdown",
      "source": [
        "####Training the model\n"
      ],
      "metadata": {
        "id": "7gBPMVfQkaeI"
      }
    },
    {
      "cell_type": "code",
      "source": [
        "# Create a K-Means model with specified parameters\n",
        "clf = KMeans(n_clusters=k, init=\"random\", n_init=10)\n",
        "\n",
        "# Use the bench_k_means function to evaluate the model\n",
        "bench_k_means(clf, \"1\", data)"
      ],
      "metadata": {
        "colab": {
          "base_uri": "https://localhost:8080/"
        },
        "id": "byfe2s4ykwmB",
        "outputId": "e8610d80-960d-4f3a-bea8-f6f75d859af6"
      },
      "execution_count": 5,
      "outputs": [
        {
          "output_type": "stream",
          "name": "stdout",
          "text": [
            "1        \t69507\t0.596\t0.643\t0.619\t0.466\t0.615\t0.145\n"
          ]
        }
      ]
    }
  ]
}