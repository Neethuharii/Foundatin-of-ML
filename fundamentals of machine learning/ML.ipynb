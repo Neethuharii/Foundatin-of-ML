{
  "nbformat": 4,
  "nbformat_minor": 0,
  "metadata": {
    "colab": {
      "provenance": [],
      "mount_file_id": "1pzi06vYei88j14U4a6n3eKgkOBT91AHz",
      "authorship_tag": "ABX9TyPNBP+x+PCBt4s8xcQ2hFhw",
      "include_colab_link": true
    },
    "kernelspec": {
      "name": "python3",
      "display_name": "Python 3"
    },
    "language_info": {
      "name": "python"
    }
  },
  "cells": [
    {
      "cell_type": "markdown",
      "metadata": {
        "id": "view-in-github",
        "colab_type": "text"
      },
      "source": [
        "<a href=\"https://colab.research.google.com/github/Neethuharii/Foundatin-of-ML/blob/main/fundamentals%20of%20machine%20learning/ML.ipynb\" target=\"_parent\"><img src=\"https://colab.research.google.com/assets/colab-badge.svg\" alt=\"Open In Colab\"/></a>"
      ]
    },
    {
      "cell_type": "code",
      "execution_count": 7,
      "metadata": {
        "id": "o7K6Ft7tHfeI"
      },
      "outputs": [],
      "source": [
        "import pandas as pd\n",
        "import numpy as np\n",
        "import sklearn\n",
        "from sklearn import linear_model\n",
        "from sklearn.utils import shuffle\n",
        "import matplotlib.pyplot as plt\n",
        "from matplotlib import style\n",
        "import pickle"
      ]
    },
    {
      "cell_type": "code",
      "source": [
        "data = pd.read_csv('/content/student_mat.csv', sep=\";\")"
      ],
      "metadata": {
        "id": "HoWiYUfxKZ0d"
      },
      "execution_count": 8,
      "outputs": []
    },
    {
      "cell_type": "code",
      "source": [
        "data.head()"
      ],
      "metadata": {
        "colab": {
          "base_uri": "https://localhost:8080/",
          "height": 253
        },
        "id": "f96Hi-OrKlF0",
        "outputId": "47dd5d10-7ad0-46fc-8866-feb19e09fc24"
      },
      "execution_count": 9,
      "outputs": [
        {
          "output_type": "execute_result",
          "data": {
            "text/plain": [
              "  school sex  age address famsize Pstatus  Medu  Fedu     Mjob      Fjob  ...  \\\n",
              "0     GP   F   18       U     GT3       A     4     4  at_home   teacher  ...   \n",
              "1     GP   F   17       U     GT3       T     1     1  at_home     other  ...   \n",
              "2     GP   F   15       U     LE3       T     1     1  at_home     other  ...   \n",
              "3     GP   F   15       U     GT3       T     4     2   health  services  ...   \n",
              "4     GP   F   16       U     GT3       T     3     3    other     other  ...   \n",
              "\n",
              "  famrel freetime  goout  Dalc  Walc health absences  G1  G2  G3  \n",
              "0      4        3      4     1     1      3        6   5   6   6  \n",
              "1      5        3      3     1     1      3        4   5   5   6  \n",
              "2      4        3      2     2     3      3       10   7   8  10  \n",
              "3      3        2      2     1     1      5        2  15  14  15  \n",
              "4      4        3      2     1     2      5        4   6  10  10  \n",
              "\n",
              "[5 rows x 33 columns]"
            ],
            "text/html": [
              "\n",
              "  <div id=\"df-8b53099e-a3b8-45a6-9932-2e276b13091f\" class=\"colab-df-container\">\n",
              "    <div>\n",
              "<style scoped>\n",
              "    .dataframe tbody tr th:only-of-type {\n",
              "        vertical-align: middle;\n",
              "    }\n",
              "\n",
              "    .dataframe tbody tr th {\n",
              "        vertical-align: top;\n",
              "    }\n",
              "\n",
              "    .dataframe thead th {\n",
              "        text-align: right;\n",
              "    }\n",
              "</style>\n",
              "<table border=\"1\" class=\"dataframe\">\n",
              "  <thead>\n",
              "    <tr style=\"text-align: right;\">\n",
              "      <th></th>\n",
              "      <th>school</th>\n",
              "      <th>sex</th>\n",
              "      <th>age</th>\n",
              "      <th>address</th>\n",
              "      <th>famsize</th>\n",
              "      <th>Pstatus</th>\n",
              "      <th>Medu</th>\n",
              "      <th>Fedu</th>\n",
              "      <th>Mjob</th>\n",
              "      <th>Fjob</th>\n",
              "      <th>...</th>\n",
              "      <th>famrel</th>\n",
              "      <th>freetime</th>\n",
              "      <th>goout</th>\n",
              "      <th>Dalc</th>\n",
              "      <th>Walc</th>\n",
              "      <th>health</th>\n",
              "      <th>absences</th>\n",
              "      <th>G1</th>\n",
              "      <th>G2</th>\n",
              "      <th>G3</th>\n",
              "    </tr>\n",
              "  </thead>\n",
              "  <tbody>\n",
              "    <tr>\n",
              "      <th>0</th>\n",
              "      <td>GP</td>\n",
              "      <td>F</td>\n",
              "      <td>18</td>\n",
              "      <td>U</td>\n",
              "      <td>GT3</td>\n",
              "      <td>A</td>\n",
              "      <td>4</td>\n",
              "      <td>4</td>\n",
              "      <td>at_home</td>\n",
              "      <td>teacher</td>\n",
              "      <td>...</td>\n",
              "      <td>4</td>\n",
              "      <td>3</td>\n",
              "      <td>4</td>\n",
              "      <td>1</td>\n",
              "      <td>1</td>\n",
              "      <td>3</td>\n",
              "      <td>6</td>\n",
              "      <td>5</td>\n",
              "      <td>6</td>\n",
              "      <td>6</td>\n",
              "    </tr>\n",
              "    <tr>\n",
              "      <th>1</th>\n",
              "      <td>GP</td>\n",
              "      <td>F</td>\n",
              "      <td>17</td>\n",
              "      <td>U</td>\n",
              "      <td>GT3</td>\n",
              "      <td>T</td>\n",
              "      <td>1</td>\n",
              "      <td>1</td>\n",
              "      <td>at_home</td>\n",
              "      <td>other</td>\n",
              "      <td>...</td>\n",
              "      <td>5</td>\n",
              "      <td>3</td>\n",
              "      <td>3</td>\n",
              "      <td>1</td>\n",
              "      <td>1</td>\n",
              "      <td>3</td>\n",
              "      <td>4</td>\n",
              "      <td>5</td>\n",
              "      <td>5</td>\n",
              "      <td>6</td>\n",
              "    </tr>\n",
              "    <tr>\n",
              "      <th>2</th>\n",
              "      <td>GP</td>\n",
              "      <td>F</td>\n",
              "      <td>15</td>\n",
              "      <td>U</td>\n",
              "      <td>LE3</td>\n",
              "      <td>T</td>\n",
              "      <td>1</td>\n",
              "      <td>1</td>\n",
              "      <td>at_home</td>\n",
              "      <td>other</td>\n",
              "      <td>...</td>\n",
              "      <td>4</td>\n",
              "      <td>3</td>\n",
              "      <td>2</td>\n",
              "      <td>2</td>\n",
              "      <td>3</td>\n",
              "      <td>3</td>\n",
              "      <td>10</td>\n",
              "      <td>7</td>\n",
              "      <td>8</td>\n",
              "      <td>10</td>\n",
              "    </tr>\n",
              "    <tr>\n",
              "      <th>3</th>\n",
              "      <td>GP</td>\n",
              "      <td>F</td>\n",
              "      <td>15</td>\n",
              "      <td>U</td>\n",
              "      <td>GT3</td>\n",
              "      <td>T</td>\n",
              "      <td>4</td>\n",
              "      <td>2</td>\n",
              "      <td>health</td>\n",
              "      <td>services</td>\n",
              "      <td>...</td>\n",
              "      <td>3</td>\n",
              "      <td>2</td>\n",
              "      <td>2</td>\n",
              "      <td>1</td>\n",
              "      <td>1</td>\n",
              "      <td>5</td>\n",
              "      <td>2</td>\n",
              "      <td>15</td>\n",
              "      <td>14</td>\n",
              "      <td>15</td>\n",
              "    </tr>\n",
              "    <tr>\n",
              "      <th>4</th>\n",
              "      <td>GP</td>\n",
              "      <td>F</td>\n",
              "      <td>16</td>\n",
              "      <td>U</td>\n",
              "      <td>GT3</td>\n",
              "      <td>T</td>\n",
              "      <td>3</td>\n",
              "      <td>3</td>\n",
              "      <td>other</td>\n",
              "      <td>other</td>\n",
              "      <td>...</td>\n",
              "      <td>4</td>\n",
              "      <td>3</td>\n",
              "      <td>2</td>\n",
              "      <td>1</td>\n",
              "      <td>2</td>\n",
              "      <td>5</td>\n",
              "      <td>4</td>\n",
              "      <td>6</td>\n",
              "      <td>10</td>\n",
              "      <td>10</td>\n",
              "    </tr>\n",
              "  </tbody>\n",
              "</table>\n",
              "<p>5 rows × 33 columns</p>\n",
              "</div>\n",
              "    <div class=\"colab-df-buttons\">\n",
              "\n",
              "  <div class=\"colab-df-container\">\n",
              "    <button class=\"colab-df-convert\" onclick=\"convertToInteractive('df-8b53099e-a3b8-45a6-9932-2e276b13091f')\"\n",
              "            title=\"Convert this dataframe to an interactive table.\"\n",
              "            style=\"display:none;\">\n",
              "\n",
              "  <svg xmlns=\"http://www.w3.org/2000/svg\" height=\"24px\" viewBox=\"0 -960 960 960\">\n",
              "    <path d=\"M120-120v-720h720v720H120Zm60-500h600v-160H180v160Zm220 220h160v-160H400v160Zm0 220h160v-160H400v160ZM180-400h160v-160H180v160Zm440 0h160v-160H620v160ZM180-180h160v-160H180v160Zm440 0h160v-160H620v160Z\"/>\n",
              "  </svg>\n",
              "    </button>\n",
              "\n",
              "  <style>\n",
              "    .colab-df-container {\n",
              "      display:flex;\n",
              "      gap: 12px;\n",
              "    }\n",
              "\n",
              "    .colab-df-convert {\n",
              "      background-color: #E8F0FE;\n",
              "      border: none;\n",
              "      border-radius: 50%;\n",
              "      cursor: pointer;\n",
              "      display: none;\n",
              "      fill: #1967D2;\n",
              "      height: 32px;\n",
              "      padding: 0 0 0 0;\n",
              "      width: 32px;\n",
              "    }\n",
              "\n",
              "    .colab-df-convert:hover {\n",
              "      background-color: #E2EBFA;\n",
              "      box-shadow: 0px 1px 2px rgba(60, 64, 67, 0.3), 0px 1px 3px 1px rgba(60, 64, 67, 0.15);\n",
              "      fill: #174EA6;\n",
              "    }\n",
              "\n",
              "    .colab-df-buttons div {\n",
              "      margin-bottom: 4px;\n",
              "    }\n",
              "\n",
              "    [theme=dark] .colab-df-convert {\n",
              "      background-color: #3B4455;\n",
              "      fill: #D2E3FC;\n",
              "    }\n",
              "\n",
              "    [theme=dark] .colab-df-convert:hover {\n",
              "      background-color: #434B5C;\n",
              "      box-shadow: 0px 1px 3px 1px rgba(0, 0, 0, 0.15);\n",
              "      filter: drop-shadow(0px 1px 2px rgba(0, 0, 0, 0.3));\n",
              "      fill: #FFFFFF;\n",
              "    }\n",
              "  </style>\n",
              "\n",
              "    <script>\n",
              "      const buttonEl =\n",
              "        document.querySelector('#df-8b53099e-a3b8-45a6-9932-2e276b13091f button.colab-df-convert');\n",
              "      buttonEl.style.display =\n",
              "        google.colab.kernel.accessAllowed ? 'block' : 'none';\n",
              "\n",
              "      async function convertToInteractive(key) {\n",
              "        const element = document.querySelector('#df-8b53099e-a3b8-45a6-9932-2e276b13091f');\n",
              "        const dataTable =\n",
              "          await google.colab.kernel.invokeFunction('convertToInteractive',\n",
              "                                                    [key], {});\n",
              "        if (!dataTable) return;\n",
              "\n",
              "        const docLinkHtml = 'Like what you see? Visit the ' +\n",
              "          '<a target=\"_blank\" href=https://colab.research.google.com/notebooks/data_table.ipynb>data table notebook</a>'\n",
              "          + ' to learn more about interactive tables.';\n",
              "        element.innerHTML = '';\n",
              "        dataTable['output_type'] = 'display_data';\n",
              "        await google.colab.output.renderOutput(dataTable, element);\n",
              "        const docLink = document.createElement('div');\n",
              "        docLink.innerHTML = docLinkHtml;\n",
              "        element.appendChild(docLink);\n",
              "      }\n",
              "    </script>\n",
              "  </div>\n",
              "\n",
              "\n",
              "<div id=\"df-595d6d2e-dd8a-4e68-b63c-240dd18c9628\">\n",
              "  <button class=\"colab-df-quickchart\" onclick=\"quickchart('df-595d6d2e-dd8a-4e68-b63c-240dd18c9628')\"\n",
              "            title=\"Suggest charts\"\n",
              "            style=\"display:none;\">\n",
              "\n",
              "<svg xmlns=\"http://www.w3.org/2000/svg\" height=\"24px\"viewBox=\"0 0 24 24\"\n",
              "     width=\"24px\">\n",
              "    <g>\n",
              "        <path d=\"M19 3H5c-1.1 0-2 .9-2 2v14c0 1.1.9 2 2 2h14c1.1 0 2-.9 2-2V5c0-1.1-.9-2-2-2zM9 17H7v-7h2v7zm4 0h-2V7h2v10zm4 0h-2v-4h2v4z\"/>\n",
              "    </g>\n",
              "</svg>\n",
              "  </button>\n",
              "\n",
              "<style>\n",
              "  .colab-df-quickchart {\n",
              "      --bg-color: #E8F0FE;\n",
              "      --fill-color: #1967D2;\n",
              "      --hover-bg-color: #E2EBFA;\n",
              "      --hover-fill-color: #174EA6;\n",
              "      --disabled-fill-color: #AAA;\n",
              "      --disabled-bg-color: #DDD;\n",
              "  }\n",
              "\n",
              "  [theme=dark] .colab-df-quickchart {\n",
              "      --bg-color: #3B4455;\n",
              "      --fill-color: #D2E3FC;\n",
              "      --hover-bg-color: #434B5C;\n",
              "      --hover-fill-color: #FFFFFF;\n",
              "      --disabled-bg-color: #3B4455;\n",
              "      --disabled-fill-color: #666;\n",
              "  }\n",
              "\n",
              "  .colab-df-quickchart {\n",
              "    background-color: var(--bg-color);\n",
              "    border: none;\n",
              "    border-radius: 50%;\n",
              "    cursor: pointer;\n",
              "    display: none;\n",
              "    fill: var(--fill-color);\n",
              "    height: 32px;\n",
              "    padding: 0;\n",
              "    width: 32px;\n",
              "  }\n",
              "\n",
              "  .colab-df-quickchart:hover {\n",
              "    background-color: var(--hover-bg-color);\n",
              "    box-shadow: 0 1px 2px rgba(60, 64, 67, 0.3), 0 1px 3px 1px rgba(60, 64, 67, 0.15);\n",
              "    fill: var(--button-hover-fill-color);\n",
              "  }\n",
              "\n",
              "  .colab-df-quickchart-complete:disabled,\n",
              "  .colab-df-quickchart-complete:disabled:hover {\n",
              "    background-color: var(--disabled-bg-color);\n",
              "    fill: var(--disabled-fill-color);\n",
              "    box-shadow: none;\n",
              "  }\n",
              "\n",
              "  .colab-df-spinner {\n",
              "    border: 2px solid var(--fill-color);\n",
              "    border-color: transparent;\n",
              "    border-bottom-color: var(--fill-color);\n",
              "    animation:\n",
              "      spin 1s steps(1) infinite;\n",
              "  }\n",
              "\n",
              "  @keyframes spin {\n",
              "    0% {\n",
              "      border-color: transparent;\n",
              "      border-bottom-color: var(--fill-color);\n",
              "      border-left-color: var(--fill-color);\n",
              "    }\n",
              "    20% {\n",
              "      border-color: transparent;\n",
              "      border-left-color: var(--fill-color);\n",
              "      border-top-color: var(--fill-color);\n",
              "    }\n",
              "    30% {\n",
              "      border-color: transparent;\n",
              "      border-left-color: var(--fill-color);\n",
              "      border-top-color: var(--fill-color);\n",
              "      border-right-color: var(--fill-color);\n",
              "    }\n",
              "    40% {\n",
              "      border-color: transparent;\n",
              "      border-right-color: var(--fill-color);\n",
              "      border-top-color: var(--fill-color);\n",
              "    }\n",
              "    60% {\n",
              "      border-color: transparent;\n",
              "      border-right-color: var(--fill-color);\n",
              "    }\n",
              "    80% {\n",
              "      border-color: transparent;\n",
              "      border-right-color: var(--fill-color);\n",
              "      border-bottom-color: var(--fill-color);\n",
              "    }\n",
              "    90% {\n",
              "      border-color: transparent;\n",
              "      border-bottom-color: var(--fill-color);\n",
              "    }\n",
              "  }\n",
              "</style>\n",
              "\n",
              "  <script>\n",
              "    async function quickchart(key) {\n",
              "      const quickchartButtonEl =\n",
              "        document.querySelector('#' + key + ' button');\n",
              "      quickchartButtonEl.disabled = true;  // To prevent multiple clicks.\n",
              "      quickchartButtonEl.classList.add('colab-df-spinner');\n",
              "      try {\n",
              "        const charts = await google.colab.kernel.invokeFunction(\n",
              "            'suggestCharts', [key], {});\n",
              "      } catch (error) {\n",
              "        console.error('Error during call to suggestCharts:', error);\n",
              "      }\n",
              "      quickchartButtonEl.classList.remove('colab-df-spinner');\n",
              "      quickchartButtonEl.classList.add('colab-df-quickchart-complete');\n",
              "    }\n",
              "    (() => {\n",
              "      let quickchartButtonEl =\n",
              "        document.querySelector('#df-595d6d2e-dd8a-4e68-b63c-240dd18c9628 button');\n",
              "      quickchartButtonEl.style.display =\n",
              "        google.colab.kernel.accessAllowed ? 'block' : 'none';\n",
              "    })();\n",
              "  </script>\n",
              "</div>\n",
              "\n",
              "    </div>\n",
              "  </div>\n"
            ]
          },
          "metadata": {},
          "execution_count": 9
        }
      ]
    },
    {
      "cell_type": "markdown",
      "source": [
        "Trimming Our Data"
      ],
      "metadata": {
        "id": "_qyZKji2LLu8"
      }
    },
    {
      "cell_type": "code",
      "source": [
        "data = data[[\"G1\", \"G2\", \"G3\", \"studytime\", \"failures\", \"absences\"]]"
      ],
      "metadata": {
        "id": "DH54y5qwLBPI"
      },
      "execution_count": 10,
      "outputs": []
    },
    {
      "cell_type": "markdown",
      "source": [
        "####Separating Our Data"
      ],
      "metadata": {
        "id": "NynXkRDSLj6P"
      }
    },
    {
      "cell_type": "markdown",
      "source": [
        "use numpy to create two arrays. One that contains all of our features and one that contains our labels."
      ],
      "metadata": {
        "id": "t_h0YWVRLiqg"
      }
    },
    {
      "cell_type": "code",
      "source": [
        "predict = \"G3\"\n",
        "\n",
        "X = np.array(data.drop([predict], 1)) # Features\n",
        "y = np.array(data[predict]) # Labels"
      ],
      "metadata": {
        "colab": {
          "base_uri": "https://localhost:8080/"
        },
        "id": "kEkvMxUYLRZQ",
        "outputId": "cbdc9c1c-f151-4bc7-997b-bf20f42c43ed"
      },
      "execution_count": 11,
      "outputs": [
        {
          "output_type": "stream",
          "name": "stderr",
          "text": [
            "<ipython-input-11-0dd2bb142e91>:3: FutureWarning: In a future version of pandas all arguments of DataFrame.drop except for the argument 'labels' will be keyword-only.\n",
            "  X = np.array(data.drop([predict], 1)) # Features\n"
          ]
        }
      ]
    },
    {
      "cell_type": "markdown",
      "source": [
        "After this we need to split our data into testing and training data. We will use 90% of our data to train and the other 10% to test"
      ],
      "metadata": {
        "id": "fGYrnDcqL3WH"
      }
    },
    {
      "cell_type": "code",
      "source": [
        "x_train, x_test, y_train, y_test = sklearn.model_selection.train_test_split(X, y, test_size = 0.1)"
      ],
      "metadata": {
        "id": "NZ0wTZdrLv6l"
      },
      "execution_count": 12,
      "outputs": []
    },
    {
      "cell_type": "markdown",
      "source": [
        "####Implememntation of Algorithm\n"
      ],
      "metadata": {
        "id": "tQeyv8_KO0S3"
      }
    },
    {
      "cell_type": "markdown",
      "source": [
        "linear regression works we can use it to predict students final grades."
      ],
      "metadata": {
        "id": "6J7hEUI4PA8W"
      }
    },
    {
      "cell_type": "code",
      "source": [
        "linear = linear_model.LinearRegression()"
      ],
      "metadata": {
        "id": "nRuFCa5UO31h"
      },
      "execution_count": 13,
      "outputs": []
    },
    {
      "cell_type": "markdown",
      "source": [
        "we will train and score our model using the arrays"
      ],
      "metadata": {
        "id": "gsn_kI2pPH3j"
      }
    },
    {
      "cell_type": "code",
      "source": [
        "linear.fit(x_train, y_train)\n",
        "acc = linear.score(x_test, y_test) # acc stands for accuracy"
      ],
      "metadata": {
        "id": "ZYYVsAsTO8OR"
      },
      "execution_count": 14,
      "outputs": []
    },
    {
      "cell_type": "code",
      "source": [
        "acc"
      ],
      "metadata": {
        "colab": {
          "base_uri": "https://localhost:8080/"
        },
        "id": "w8jmaH_yQDCU",
        "outputId": "99f0adca-fb6a-4a47-c240-2b362bdb783e"
      },
      "execution_count": 15,
      "outputs": [
        {
          "output_type": "execute_result",
          "data": {
            "text/plain": [
              "0.8647710487320621"
            ]
          },
          "metadata": {},
          "execution_count": 15
        }
      ]
    },
    {
      "cell_type": "markdown",
      "source": [
        "####Viewing The Constants"
      ],
      "metadata": {
        "id": "gq_4CGqZQZg0"
      }
    },
    {
      "cell_type": "code",
      "source": [
        "print('Coefficient: \\n', linear.coef_) # These are each slope value\n",
        "print('Intercept: \\n', linear.intercept_) # This is the intercept"
      ],
      "metadata": {
        "colab": {
          "base_uri": "https://localhost:8080/"
        },
        "id": "HDEHs2FoQbCf",
        "outputId": "f9d8dbdd-be59-4896-dcbd-31ca144225ca"
      },
      "execution_count": 16,
      "outputs": [
        {
          "output_type": "stream",
          "name": "stdout",
          "text": [
            "Coefficient: \n",
            " [ 0.14945135  0.97352822 -0.20812887 -0.31039524  0.04231484]\n",
            "Intercept: \n",
            " -1.3364278261436748\n"
          ]
        }
      ]
    },
    {
      "cell_type": "markdown",
      "source": [
        "Predicting on Specific Students"
      ],
      "metadata": {
        "id": "hWm7G5QdQ-th"
      }
    },
    {
      "cell_type": "code",
      "source": [
        "predictions = linear.predict(x_test) # Gets a list of all predictions\n",
        "\n",
        "for x in range(len(predictions)):\n",
        "    print(predictions[x], x_test[x], y_test[x])"
      ],
      "metadata": {
        "colab": {
          "base_uri": "https://localhost:8080/"
        },
        "id": "zZRic4KXQfB7",
        "outputId": "9a7b706e-eae4-436f-c303-605486c01fc2"
      },
      "execution_count": 17,
      "outputs": [
        {
          "output_type": "stream",
          "name": "stdout",
          "text": [
            "11.029382209875404 [13 11  3  0  8] 11\n",
            "13.9301588299889 [14 14  3  0  4] 14\n",
            "15.661162317280231 [16 15  1  0  5] 16\n",
            "14.376847457416961 [13 15  4  0  0] 15\n",
            "6.25762272899131 [8 7 2 0 0] 8\n",
            "9.245441011606852 [11  9  2  0 14] 9\n",
            "7.231150944569212 [8 8 2 0 0] 0\n",
            "11.224353117157635 [11 12  3  1  4] 11\n",
            "10.151735591302916 [ 8 11  2  0  0] 11\n",
            "16.29961713564969 [16 16  2  0  2] 16\n",
            "12.846048759604109 [13 13  2  0  0] 12\n",
            "13.054177626275585 [13 13  1  0  0] 12\n",
            "16.251158150975336 [14 16  1  0  3] 16\n",
            "12.073061962881468 [13 11  3  1 40] 11\n",
            "9.477110070583171 [10 10  2  0  0] 10\n",
            "14.027705841853487 [13 14  1  0  0] 14\n",
            "-1.7284856738344445 [5 0 1 3 0] 0\n",
            "11.324312104499622 [12 11  1  1 16] 12\n",
            "14.287739044089454 [15 14  2  0  4] 14\n",
            "15.707955887095418 [14 16  3  0  0] 16\n",
            "11.349126306766502 [12 12  4  0  1] 12\n",
            "12.637919892932635 [13 13  3  0  0] 14\n",
            "13.871481310746502 [15 14  4  0  4] 14\n",
            "9.58769192539006 [11 10  3  0  4] 10\n",
            "11.63470734388785 [12 11  1  0 16] 11\n",
            "11.918280738428663 [13 12  3  0  6] 12\n",
            "14.877734877784556 [13 15  2  0  2] 16\n",
            "2.7749251227235465 [7 4 1 2 0] 0\n",
            "8.41280802681859 [8 9 1 0 0] 8\n",
            "12.930678446628752 [13 13  2  0  2] 13\n",
            "8.380082675358437 [10  9  3  0  2] 9\n",
            "15.706922511682686 [16 15  2  0 11] 15\n",
            "12.050095400165633 [14 12  2  1  8] 12\n",
            "7.238041646349476 [ 8  8  4  0 10] 8\n",
            "14.027705841853487 [13 14  1  0  0] 13\n",
            "10.723761744266204 [ 9  9  2  0 56] 8\n",
            "14.16423986444262 [15 14  3  0  6] 14\n",
            "7.5696696926677856 [8 8 2 0 8] 6\n",
            "11.99676628429127 [11 12  2  0 10] 13\n",
            "11.599570016950299 [12 12  3  0  2] 11\n"
          ]
        }
      ]
    },
    {
      "cell_type": "markdown",
      "source": [
        "####Saving Our Model"
      ],
      "metadata": {
        "id": "otrF99wAsvOI"
      }
    },
    {
      "cell_type": "markdown",
      "source": [
        "To save our model we will write to a new file using pickle.dump()."
      ],
      "metadata": {
        "id": "eFNuyefBs1Eq"
      }
    },
    {
      "cell_type": "code",
      "source": [
        "with open(\"studentgrades.pickle\", \"wb\") as f:       #wb means binary write\n",
        "    pickle.dump(linear, f)"
      ],
      "metadata": {
        "id": "nZNpTpXwswVx"
      },
      "execution_count": 18,
      "outputs": []
    },
    {
      "cell_type": "markdown",
      "source": [
        "####Loading Our Model"
      ],
      "metadata": {
        "id": "p01ujK7FuP18"
      }
    },
    {
      "cell_type": "code",
      "source": [
        "pickle_in = open(\"studentgrades.pickle\", \"rb\")\n",
        "linear = pickle.load(pickle_in)"
      ],
      "metadata": {
        "id": "ATVN6OLluRVf"
      },
      "execution_count": 19,
      "outputs": []
    },
    {
      "cell_type": "markdown",
      "source": [
        "##Training Multiple Models\n",
        "best = 0\n",
        "for _ in range(20):\n",
        "    x_train, x_test, y_train, y_test = sklearn.model_selection.train_test_split(x, y, test_size=0.1)\n",
        "\n",
        "    linear = linear_model.LinearRegression()\n",
        "\n",
        "    linear.fit(x_train, y_train)\n",
        "    acc = linear.score(x_test, y_test)\n",
        "    print(\"Accuracy: \" + str(acc))\n",
        "    \n",
        "    # If the current model has a better score than one we've already trained then save it\n",
        "    if acc > best:\n",
        "        best = acc\n",
        "        with open(\"studentgrades.pickle\", \"wb\") as f:\n",
        "            pickle.dump(linear, f)\n"
      ],
      "metadata": {
        "id": "M8CifSIsvvum"
      }
    },
    {
      "cell_type": "markdown",
      "source": [
        "## Plotting Our Data"
      ],
      "metadata": {
        "id": "XvaNc3XKv3nQ"
      }
    },
    {
      "cell_type": "code",
      "source": [
        "# Drawing and plotting model\n",
        "plot = \"absences\" # Change this to G1, G2, studytime or absences to see other graphs\n",
        "plt.scatter(data[plot], data[\"G3\"])\n",
        "#plt.legend(loc=4)\n",
        "plt.xlabel(plot)\n",
        "plt.ylabel(\"Final Grade\")\n",
        "plt.show()"
      ],
      "metadata": {
        "colab": {
          "base_uri": "https://localhost:8080/",
          "height": 449
        },
        "id": "PcM22rLzvzoq",
        "outputId": "41d67102-82d8-4baa-ebca-cb4932891347"
      },
      "execution_count": 23,
      "outputs": [
        {
          "output_type": "display_data",
          "data": {
            "text/plain": [
              "<Figure size 640x480 with 1 Axes>"
            ],
            "image/png": "[encoded data removed]"
          },
          "metadata": {}
        }
      ]
    }
  ]
}